{
 "cells": [
  {
   "cell_type": "code",
   "execution_count": 1,
   "id": "d9fe2d92",
   "metadata": {},
   "outputs": [],
   "source": [
    "import pandas as pd\n",
    "df = pd.read_csv(\"D:\\python programs\\dspl\\\\archive\\ADANIPORTS.csv\") "
   ]
  },
  {
   "cell_type": "code",
   "execution_count": 2,
   "id": "76556b3b",
   "metadata": {},
   "outputs": [],
   "source": [
    "df1 = df"
   ]
  },
  {
   "cell_type": "code",
   "execution_count": 3,
   "id": "12581f37",
   "metadata": {},
   "outputs": [],
   "source": [
    "#import dependencies \n",
    "from scipy import stats "
   ]
  },
  {
   "cell_type": "code",
   "execution_count": 4,
   "id": "c2bfd440",
   "metadata": {},
   "outputs": [
    {
     "data": {
      "text/plain": [
       "0       770.00\n",
       "1       984.00\n",
       "2       909.00\n",
       "3       890.00\n",
       "4       939.75\n",
       "         ...  \n",
       "3317    733.00\n",
       "3318    735.00\n",
       "3319    755.00\n",
       "3320    753.20\n",
       "3321    739.00\n",
       "Name: Open, Length: 3322, dtype: float64"
      ]
     },
     "execution_count": 4,
     "metadata": {},
     "output_type": "execute_result"
    }
   ],
   "source": [
    "#choosing a column \n",
    "data = df1[\"Open\"] \n",
    "data"
   ]
  },
  {
   "cell_type": "code",
   "execution_count": 5,
   "id": "0b2ca364",
   "metadata": {},
   "outputs": [
    {
     "data": {
      "text/plain": [
       "Ttest_1sampResult(statistic=102.62904570684695, pvalue=0.0)"
      ]
     },
     "execution_count": 5,
     "metadata": {},
     "output_type": "execute_result"
    }
   ],
   "source": [
    "#t-test for charges \n",
    "stats.ttest_1samp(data, 0) "
   ]
  },
  {
   "cell_type": "code",
   "execution_count": 6,
   "id": "1ce104c7",
   "metadata": {},
   "outputs": [
    {
     "data": {
      "text/plain": [
       "Ttest_1sampResult(statistic=102.33136573546982, pvalue=0.0)"
      ]
     },
     "execution_count": 6,
     "metadata": {},
     "output_type": "execute_result"
    }
   ],
   "source": [
    "#t-test for charges \n",
    "stats.ttest_1samp(data, 1)"
   ]
  }
 ],
 "metadata": {
  "kernelspec": {
   "display_name": "Python 3",
   "language": "python",
   "name": "python3"
  },
  "language_info": {
   "codemirror_mode": {
    "name": "ipython",
    "version": 3
   },
   "file_extension": ".py",
   "mimetype": "text/x-python",
   "name": "python",
   "nbconvert_exporter": "python",
   "pygments_lexer": "ipython3",
   "version": "3.10.5"
  },
  "vscode": {
   "interpreter": {
    "hash": "ea928f5d67c4c93314bde902f9925b00b35f33a7a7fd46f2f8b2a0108e4de065"
   }
  }
 },
 "nbformat": 4,
 "nbformat_minor": 5
}
