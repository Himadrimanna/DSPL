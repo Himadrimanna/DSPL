{
 "cells": [
  {
   "cell_type": "code",
   "execution_count": 1,
   "metadata": {},
   "outputs": [],
   "source": [
    "# Import Libraries\n",
    "import yfinance as yf\n",
    "import pandas as pd\n",
    "from sklearn.model_selection import train_test_split\n",
    "from sklearn.ensemble import RandomForestClassifier\n",
    "from sklearn.tree import DecisionTreeClassifier\n",
    "from sklearn.metrics import accuracy_score, confusion_matrix"
   ]
  },
  {
   "cell_type": "code",
   "execution_count": 2,
   "metadata": {},
   "outputs": [],
   "source": [
    "# Downloading stock data from Yahoo Finance\n",
    "stock_data = pd.read_csv(\"D:\\python programs\\dspl\\\\archive\\ADANIPORTS.csv\") "
   ]
  },
  {
   "cell_type": "code",
   "execution_count": 3,
   "metadata": {},
   "outputs": [],
   "source": [
    "# Creating a new dataframe with only the 'Close' column\n",
    "df = pd.DataFrame(stock_data['Close'])"
   ]
  },
  {
   "cell_type": "code",
   "execution_count": 4,
   "metadata": {},
   "outputs": [],
   "source": [
    "# Adding a new column with the shifted 'Close' values to create the target variable\n",
    "df['Target'] = df['Close'].shift(-1)"
   ]
  },
  {
   "cell_type": "code",
   "execution_count": 5,
   "metadata": {},
   "outputs": [],
   "source": [
    "# Dropping the last row which has NaN as the target variable\n",
    "df.drop(df.tail(1).index, inplace=True)"
   ]
  },
  {
   "cell_type": "code",
   "execution_count": 6,
   "metadata": {},
   "outputs": [],
   "source": [
    "# Creating a new column 'Action' based on the difference between the current and the next day's closing prices\n",
    "df['Action'] = df['Target'] - df['Close']\n",
    "df['Action'] = df['Action'].apply(lambda x: 1 if x > 0 else 0)"
   ]
  },
  {
   "cell_type": "code",
   "execution_count": 7,
   "metadata": {},
   "outputs": [],
   "source": [
    "# Dropping the 'Target' column\n",
    "df.drop(['Target'], axis=1, inplace=True)"
   ]
  },
  {
   "cell_type": "code",
   "execution_count": 8,
   "metadata": {},
   "outputs": [],
   "source": [
    "# Creating the independent and dependent variables\n",
    "X = df.iloc[:, :-1].values\n",
    "y = df.iloc[:, -1].values"
   ]
  },
  {
   "cell_type": "code",
   "execution_count": 9,
   "metadata": {},
   "outputs": [],
   "source": [
    "# Splitting the data into training and testing sets\n",
    "X_train, X_test, y_train, y_test = train_test_split(X, y, test_size=0.2, random_state=0)"
   ]
  },
  {
   "cell_type": "code",
   "execution_count": 10,
   "metadata": {},
   "outputs": [
    {
     "data": {
      "text/plain": [
       "RandomForestClassifier(criterion='entropy', random_state=0)"
      ]
     },
     "execution_count": 10,
     "metadata": {},
     "output_type": "execute_result"
    }
   ],
   "source": [
    "# Creating a Random Forest classifier model and fitting it to the training data\n",
    "rfc = RandomForestClassifier(n_estimators=100, criterion='entropy', random_state=0)\n",
    "rfc.fit(X_train, y_train)"
   ]
  },
  {
   "cell_type": "code",
   "execution_count": 11,
   "metadata": {},
   "outputs": [
    {
     "data": {
      "text/plain": [
       "DecisionTreeClassifier(criterion='entropy', random_state=0)"
      ]
     },
     "execution_count": 11,
     "metadata": {},
     "output_type": "execute_result"
    }
   ],
   "source": [
    "# Creating a Decision Tree classifier model and fitting it to the training data\n",
    "dtc = DecisionTreeClassifier(criterion='entropy', random_state=0)\n",
    "dtc.fit(X_train, y_train)"
   ]
  },
  {
   "cell_type": "code",
   "execution_count": 12,
   "metadata": {},
   "outputs": [],
   "source": [
    "# Predicting the 'Action' variable using the testing data\n",
    "y_pred_rfc = rfc.predict(X_test)\n",
    "y_pred_dtc = dtc.predict(X_test)"
   ]
  },
  {
   "cell_type": "code",
   "execution_count": 13,
   "metadata": {},
   "outputs": [
    {
     "name": "stdout",
     "output_type": "stream",
     "text": [
      "Random Forest Classifier:\n",
      "Accuracy score: 0.45112781954887216\n",
      "Confusion matrix:\n",
      " [[162 174]\n",
      " [191 138]]\n"
     ]
    }
   ],
   "source": [
    "# Calculating the accuracy score and confusion matrix to evaluate the Random Forest Classifier's performance\n",
    "rfc_accuracy = accuracy_score(y_test, y_pred_rfc)\n",
    "rfc_conf_matrix = confusion_matrix(y_test, y_pred_rfc)\n",
    "print(\"Random Forest Classifier:\")\n",
    "print(\"Accuracy score:\", rfc_accuracy)\n",
    "print(\"Confusion matrix:\\n\", rfc_conf_matrix)"
   ]
  },
  {
   "cell_type": "code",
   "execution_count": 14,
   "metadata": {},
   "outputs": [
    {
     "name": "stdout",
     "output_type": "stream",
     "text": [
      "Decision Tree Classifier:\n",
      "Accuracy score: 0.4631578947368421\n",
      "Confusion matrix:\n",
      " [[178 158]\n",
      " [199 130]]\n"
     ]
    }
   ],
   "source": [
    "# Calculating the accuracy score and confusion matrix to evaluate the Decision Tree Classifier's performance\n",
    "dtc_accuracy = accuracy_score(y_test, y_pred_dtc)\n",
    "dtc_conf_matrix = confusion_matrix(y_test, y_pred_dtc)\n",
    "print(\"Decision Tree Classifier:\")\n",
    "print(\"Accuracy score:\", dtc_accuracy)\n",
    "print(\"Confusion matrix:\\n\", dtc_conf_matrix)"
   ]
  }
 ],
 "metadata": {
  "kernelspec": {
   "display_name": "Python 3",
   "language": "python",
   "name": "python3"
  },
  "language_info": {
   "codemirror_mode": {
    "name": "ipython",
    "version": 3
   },
   "file_extension": ".py",
   "mimetype": "text/x-python",
   "name": "python",
   "nbconvert_exporter": "python",
   "pygments_lexer": "ipython3",
   "version": "3.10.5"
  },
  "orig_nbformat": 4,
  "vscode": {
   "interpreter": {
    "hash": "ea928f5d67c4c93314bde902f9925b00b35f33a7a7fd46f2f8b2a0108e4de065"
   }
  }
 },
 "nbformat": 4,
 "nbformat_minor": 2
}
