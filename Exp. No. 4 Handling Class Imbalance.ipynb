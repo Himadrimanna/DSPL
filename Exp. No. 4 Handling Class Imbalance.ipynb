{
 "cells": [
  {
   "cell_type": "code",
   "execution_count": 1,
   "id": "df3f1240",
   "metadata": {},
   "outputs": [],
   "source": [
    "#import pandas\n",
    "import pandas as pd\n",
    "#import numpy\n",
    "import numpy as np\n",
    "#import matplotlib\n",
    "import matplotlib.pyplot as plt\n",
    "#import seaborn\n",
    "import seaborn as sns"
   ]
  },
  {
   "cell_type": "code",
   "execution_count": 2,
   "id": "263f34cf",
   "metadata": {},
   "outputs": [
    {
     "data": {
      "text/html": [
       "<div>\n",
       "<style scoped>\n",
       "    .dataframe tbody tr th:only-of-type {\n",
       "        vertical-align: middle;\n",
       "    }\n",
       "\n",
       "    .dataframe tbody tr th {\n",
       "        vertical-align: top;\n",
       "    }\n",
       "\n",
       "    .dataframe thead th {\n",
       "        text-align: right;\n",
       "    }\n",
       "</style>\n",
       "<table border=\"1\" class=\"dataframe\">\n",
       "  <thead>\n",
       "    <tr style=\"text-align: right;\">\n",
       "      <th></th>\n",
       "      <th>Date</th>\n",
       "      <th>Symbol</th>\n",
       "      <th>Series</th>\n",
       "      <th>Prev Close</th>\n",
       "      <th>Open</th>\n",
       "      <th>High</th>\n",
       "      <th>Low</th>\n",
       "      <th>Last</th>\n",
       "      <th>Close</th>\n",
       "      <th>VWAP</th>\n",
       "      <th>Volume</th>\n",
       "      <th>Turnover</th>\n",
       "      <th>Trades</th>\n",
       "      <th>Deliverable Volume</th>\n",
       "      <th>%Deliverble</th>\n",
       "    </tr>\n",
       "  </thead>\n",
       "  <tbody>\n",
       "    <tr>\n",
       "      <th>0</th>\n",
       "      <td>2007-11-27</td>\n",
       "      <td>MUNDRAPORT</td>\n",
       "      <td>EQ</td>\n",
       "      <td>440.00</td>\n",
       "      <td>770.00</td>\n",
       "      <td>1050.00</td>\n",
       "      <td>770.00</td>\n",
       "      <td>959.0</td>\n",
       "      <td>962.90</td>\n",
       "      <td>984.72</td>\n",
       "      <td>27294366</td>\n",
       "      <td>2.687719e+15</td>\n",
       "      <td>NaN</td>\n",
       "      <td>9859619</td>\n",
       "      <td>0.3612</td>\n",
       "    </tr>\n",
       "    <tr>\n",
       "      <th>1</th>\n",
       "      <td>2007-11-28</td>\n",
       "      <td>MUNDRAPORT</td>\n",
       "      <td>EQ</td>\n",
       "      <td>962.90</td>\n",
       "      <td>984.00</td>\n",
       "      <td>990.00</td>\n",
       "      <td>874.00</td>\n",
       "      <td>885.0</td>\n",
       "      <td>893.90</td>\n",
       "      <td>941.38</td>\n",
       "      <td>4581338</td>\n",
       "      <td>4.312765e+14</td>\n",
       "      <td>NaN</td>\n",
       "      <td>1453278</td>\n",
       "      <td>0.3172</td>\n",
       "    </tr>\n",
       "    <tr>\n",
       "      <th>2</th>\n",
       "      <td>2007-11-29</td>\n",
       "      <td>MUNDRAPORT</td>\n",
       "      <td>EQ</td>\n",
       "      <td>893.90</td>\n",
       "      <td>909.00</td>\n",
       "      <td>914.75</td>\n",
       "      <td>841.00</td>\n",
       "      <td>887.0</td>\n",
       "      <td>884.20</td>\n",
       "      <td>888.09</td>\n",
       "      <td>5124121</td>\n",
       "      <td>4.550658e+14</td>\n",
       "      <td>NaN</td>\n",
       "      <td>1069678</td>\n",
       "      <td>0.2088</td>\n",
       "    </tr>\n",
       "    <tr>\n",
       "      <th>3</th>\n",
       "      <td>2007-11-30</td>\n",
       "      <td>MUNDRAPORT</td>\n",
       "      <td>EQ</td>\n",
       "      <td>884.20</td>\n",
       "      <td>890.00</td>\n",
       "      <td>958.00</td>\n",
       "      <td>890.00</td>\n",
       "      <td>929.0</td>\n",
       "      <td>921.55</td>\n",
       "      <td>929.17</td>\n",
       "      <td>4609762</td>\n",
       "      <td>4.283257e+14</td>\n",
       "      <td>NaN</td>\n",
       "      <td>1260913</td>\n",
       "      <td>0.2735</td>\n",
       "    </tr>\n",
       "    <tr>\n",
       "      <th>4</th>\n",
       "      <td>2007-12-03</td>\n",
       "      <td>MUNDRAPORT</td>\n",
       "      <td>EQ</td>\n",
       "      <td>921.55</td>\n",
       "      <td>939.75</td>\n",
       "      <td>995.00</td>\n",
       "      <td>922.00</td>\n",
       "      <td>980.0</td>\n",
       "      <td>969.30</td>\n",
       "      <td>965.65</td>\n",
       "      <td>2977470</td>\n",
       "      <td>2.875200e+14</td>\n",
       "      <td>NaN</td>\n",
       "      <td>816123</td>\n",
       "      <td>0.2741</td>\n",
       "    </tr>\n",
       "    <tr>\n",
       "      <th>...</th>\n",
       "      <td>...</td>\n",
       "      <td>...</td>\n",
       "      <td>...</td>\n",
       "      <td>...</td>\n",
       "      <td>...</td>\n",
       "      <td>...</td>\n",
       "      <td>...</td>\n",
       "      <td>...</td>\n",
       "      <td>...</td>\n",
       "      <td>...</td>\n",
       "      <td>...</td>\n",
       "      <td>...</td>\n",
       "      <td>...</td>\n",
       "      <td>...</td>\n",
       "      <td>...</td>\n",
       "    </tr>\n",
       "    <tr>\n",
       "      <th>3317</th>\n",
       "      <td>2021-04-26</td>\n",
       "      <td>ADANIPORTS</td>\n",
       "      <td>EQ</td>\n",
       "      <td>725.35</td>\n",
       "      <td>733.00</td>\n",
       "      <td>739.65</td>\n",
       "      <td>728.90</td>\n",
       "      <td>729.2</td>\n",
       "      <td>730.75</td>\n",
       "      <td>733.25</td>\n",
       "      <td>9390549</td>\n",
       "      <td>6.885658e+14</td>\n",
       "      <td>116457.0</td>\n",
       "      <td>838079</td>\n",
       "      <td>0.0892</td>\n",
       "    </tr>\n",
       "    <tr>\n",
       "      <th>3318</th>\n",
       "      <td>2021-04-27</td>\n",
       "      <td>ADANIPORTS</td>\n",
       "      <td>EQ</td>\n",
       "      <td>730.75</td>\n",
       "      <td>735.00</td>\n",
       "      <td>757.50</td>\n",
       "      <td>727.35</td>\n",
       "      <td>748.6</td>\n",
       "      <td>749.15</td>\n",
       "      <td>747.67</td>\n",
       "      <td>20573107</td>\n",
       "      <td>1.538191e+15</td>\n",
       "      <td>236896.0</td>\n",
       "      <td>1779639</td>\n",
       "      <td>0.0865</td>\n",
       "    </tr>\n",
       "    <tr>\n",
       "      <th>3319</th>\n",
       "      <td>2021-04-28</td>\n",
       "      <td>ADANIPORTS</td>\n",
       "      <td>EQ</td>\n",
       "      <td>749.15</td>\n",
       "      <td>755.00</td>\n",
       "      <td>760.00</td>\n",
       "      <td>741.10</td>\n",
       "      <td>743.4</td>\n",
       "      <td>746.25</td>\n",
       "      <td>751.02</td>\n",
       "      <td>11156977</td>\n",
       "      <td>8.379106e+14</td>\n",
       "      <td>130847.0</td>\n",
       "      <td>1342353</td>\n",
       "      <td>0.1203</td>\n",
       "    </tr>\n",
       "    <tr>\n",
       "      <th>3320</th>\n",
       "      <td>2021-04-29</td>\n",
       "      <td>ADANIPORTS</td>\n",
       "      <td>EQ</td>\n",
       "      <td>746.25</td>\n",
       "      <td>753.20</td>\n",
       "      <td>765.85</td>\n",
       "      <td>743.40</td>\n",
       "      <td>746.4</td>\n",
       "      <td>746.75</td>\n",
       "      <td>753.06</td>\n",
       "      <td>13851910</td>\n",
       "      <td>1.043139e+15</td>\n",
       "      <td>153293.0</td>\n",
       "      <td>1304895</td>\n",
       "      <td>0.0942</td>\n",
       "    </tr>\n",
       "    <tr>\n",
       "      <th>3321</th>\n",
       "      <td>2021-04-30</td>\n",
       "      <td>ADANIPORTS</td>\n",
       "      <td>EQ</td>\n",
       "      <td>746.75</td>\n",
       "      <td>739.00</td>\n",
       "      <td>759.45</td>\n",
       "      <td>724.50</td>\n",
       "      <td>726.4</td>\n",
       "      <td>730.05</td>\n",
       "      <td>743.35</td>\n",
       "      <td>12600934</td>\n",
       "      <td>9.366911e+14</td>\n",
       "      <td>132141.0</td>\n",
       "      <td>3514692</td>\n",
       "      <td>0.2789</td>\n",
       "    </tr>\n",
       "  </tbody>\n",
       "</table>\n",
       "<p>3322 rows × 15 columns</p>\n",
       "</div>"
      ],
      "text/plain": [
       "            Date      Symbol Series  Prev Close    Open     High     Low  \\\n",
       "0     2007-11-27  MUNDRAPORT     EQ      440.00  770.00  1050.00  770.00   \n",
       "1     2007-11-28  MUNDRAPORT     EQ      962.90  984.00   990.00  874.00   \n",
       "2     2007-11-29  MUNDRAPORT     EQ      893.90  909.00   914.75  841.00   \n",
       "3     2007-11-30  MUNDRAPORT     EQ      884.20  890.00   958.00  890.00   \n",
       "4     2007-12-03  MUNDRAPORT     EQ      921.55  939.75   995.00  922.00   \n",
       "...          ...         ...    ...         ...     ...      ...     ...   \n",
       "3317  2021-04-26  ADANIPORTS     EQ      725.35  733.00   739.65  728.90   \n",
       "3318  2021-04-27  ADANIPORTS     EQ      730.75  735.00   757.50  727.35   \n",
       "3319  2021-04-28  ADANIPORTS     EQ      749.15  755.00   760.00  741.10   \n",
       "3320  2021-04-29  ADANIPORTS     EQ      746.25  753.20   765.85  743.40   \n",
       "3321  2021-04-30  ADANIPORTS     EQ      746.75  739.00   759.45  724.50   \n",
       "\n",
       "       Last   Close    VWAP    Volume      Turnover    Trades  \\\n",
       "0     959.0  962.90  984.72  27294366  2.687719e+15       NaN   \n",
       "1     885.0  893.90  941.38   4581338  4.312765e+14       NaN   \n",
       "2     887.0  884.20  888.09   5124121  4.550658e+14       NaN   \n",
       "3     929.0  921.55  929.17   4609762  4.283257e+14       NaN   \n",
       "4     980.0  969.30  965.65   2977470  2.875200e+14       NaN   \n",
       "...     ...     ...     ...       ...           ...       ...   \n",
       "3317  729.2  730.75  733.25   9390549  6.885658e+14  116457.0   \n",
       "3318  748.6  749.15  747.67  20573107  1.538191e+15  236896.0   \n",
       "3319  743.4  746.25  751.02  11156977  8.379106e+14  130847.0   \n",
       "3320  746.4  746.75  753.06  13851910  1.043139e+15  153293.0   \n",
       "3321  726.4  730.05  743.35  12600934  9.366911e+14  132141.0   \n",
       "\n",
       "      Deliverable Volume  %Deliverble  \n",
       "0                9859619       0.3612  \n",
       "1                1453278       0.3172  \n",
       "2                1069678       0.2088  \n",
       "3                1260913       0.2735  \n",
       "4                 816123       0.2741  \n",
       "...                  ...          ...  \n",
       "3317              838079       0.0892  \n",
       "3318             1779639       0.0865  \n",
       "3319             1342353       0.1203  \n",
       "3320             1304895       0.0942  \n",
       "3321             3514692       0.2789  \n",
       "\n",
       "[3322 rows x 15 columns]"
      ]
     },
     "execution_count": 2,
     "metadata": {},
     "output_type": "execute_result"
    }
   ],
   "source": [
    "# use pandas to import csv file\n",
    "df = pd.read_csv(\"D:\\python programs\\dspl\\\\archive\\ADANIPORTS.csv\")\n",
    "# too see max columns\n",
    "pd.set_option('display.max_columns',None)\n",
    "# print dataframe\n",
    "df"
   ]
  },
  {
   "cell_type": "code",
   "execution_count": 3,
   "id": "6c98b798",
   "metadata": {},
   "outputs": [
    {
     "name": "stdout",
     "output_type": "stream",
     "text": [
      "<class 'pandas.core.frame.DataFrame'>\n",
      "RangeIndex: 3322 entries, 0 to 3321\n",
      "Data columns (total 15 columns):\n",
      " #   Column              Non-Null Count  Dtype  \n",
      "---  ------              --------------  -----  \n",
      " 0   Date                3322 non-null   object \n",
      " 1   Symbol              3322 non-null   object \n",
      " 2   Series              3322 non-null   object \n",
      " 3   Prev Close          3322 non-null   float64\n",
      " 4   Open                3322 non-null   float64\n",
      " 5   High                3322 non-null   float64\n",
      " 6   Low                 3322 non-null   float64\n",
      " 7   Last                3322 non-null   float64\n",
      " 8   Close               3322 non-null   float64\n",
      " 9   VWAP                3322 non-null   float64\n",
      " 10  Volume              3322 non-null   int64  \n",
      " 11  Turnover            3322 non-null   float64\n",
      " 12  Trades              2456 non-null   float64\n",
      " 13  Deliverable Volume  3322 non-null   int64  \n",
      " 14  %Deliverble         3322 non-null   float64\n",
      "dtypes: float64(10), int64(2), object(3)\n",
      "memory usage: 389.4+ KB\n"
     ]
    }
   ],
   "source": [
    "df.info()"
   ]
  },
  {
   "cell_type": "code",
   "execution_count": 4,
   "id": "45bb5a6f",
   "metadata": {},
   "outputs": [
    {
     "name": "stdout",
     "output_type": "stream",
     "text": [
      "Date                    0\n",
      "Symbol                  0\n",
      "Series                  0\n",
      "Prev Close              0\n",
      "Open                    0\n",
      "High                    0\n",
      "Low                     0\n",
      "Last                    0\n",
      "Close                   0\n",
      "VWAP                    0\n",
      "Volume                  0\n",
      "Turnover                0\n",
      "Trades                866\n",
      "Deliverable Volume      0\n",
      "%Deliverble             0\n",
      "dtype: int64\n",
      "Missing values distribution: \n",
      "Date                  0.000000\n",
      "Symbol                0.000000\n",
      "Series                0.000000\n",
      "Prev Close            0.000000\n",
      "Open                  0.000000\n",
      "High                  0.000000\n",
      "Low                   0.000000\n",
      "Last                  0.000000\n",
      "Close                 0.000000\n",
      "VWAP                  0.000000\n",
      "Volume                0.000000\n",
      "Turnover              0.000000\n",
      "Trades                0.260686\n",
      "Deliverable Volume    0.000000\n",
      "%Deliverble           0.000000\n",
      "dtype: float64\n"
     ]
    }
   ],
   "source": [
    "#New dataframe \n",
    "new_df = df\n",
    "#Checking for null values \n",
    "print(new_df.isnull().sum()) \n",
    "print(\"Missing values distribution: \")\n",
    "print(new_df.isnull().mean())"
   ]
  },
  {
   "cell_type": "code",
   "execution_count": 5,
   "id": "58cd3a3b",
   "metadata": {},
   "outputs": [
    {
     "name": "stdout",
     "output_type": "stream",
     "text": [
      "False\n"
     ]
    }
   ],
   "source": [
    "# #Checking for duplicates\n",
    "print(new_df.duplicated().any()) "
   ]
  },
  {
   "cell_type": "code",
   "execution_count": 6,
   "id": "01de260a",
   "metadata": {},
   "outputs": [
    {
     "name": "stdout",
     "output_type": "stream",
     "text": [
      "0       False\n",
      "1       False\n",
      "2       False\n",
      "3       False\n",
      "4       False\n",
      "        ...  \n",
      "3317    False\n",
      "3318    False\n",
      "3319    False\n",
      "3320    False\n",
      "3321    False\n",
      "Length: 3322, dtype: bool\n",
      "(3322, 15)\n"
     ]
    }
   ],
   "source": [
    "print(new_df.duplicated())\n",
    "print(new_df.shape) "
   ]
  },
  {
   "cell_type": "code",
   "execution_count": 7,
   "id": "ff7df50f",
   "metadata": {},
   "outputs": [
    {
     "name": "stdout",
     "output_type": "stream",
     "text": [
      "         Date Symbol Series  Prev Close    Open     High    Low   Last  \\\n",
      "0  2007-11-27   1316     EQ      440.00  770.00  1050.00  770.0  959.0   \n",
      "1  2007-11-28   1316     EQ      962.90  984.00   990.00  874.0  885.0   \n",
      "2  2007-11-29   1316     EQ      893.90  909.00   914.75  841.0  887.0   \n",
      "3  2007-11-30   1316     EQ      884.20  890.00   958.00  890.0  929.0   \n",
      "4  2007-12-03   1316     EQ      921.55  939.75   995.00  922.0  980.0   \n",
      "\n",
      "    Close    VWAP    Volume      Turnover  Trades  Deliverable Volume  \\\n",
      "0  962.90  984.72  27294366  2.687719e+15     NaN             9859619   \n",
      "1  893.90  941.38   4581338  4.312765e+14     NaN             1453278   \n",
      "2  884.20  888.09   5124121  4.550658e+14     NaN             1069678   \n",
      "3  921.55  929.17   4609762  4.283257e+14     NaN             1260913   \n",
      "4  969.30  965.65   2977470  2.875200e+14     NaN              816123   \n",
      "\n",
      "   %Deliverble  \n",
      "0       0.3612  \n",
      "1       0.3172  \n",
      "2       0.2088  \n",
      "3       0.2735  \n",
      "4       0.2741  \n"
     ]
    }
   ],
   "source": [
    "#Replacing string values with integer \n",
    "new_df[\"Symbol\"].replace({\"MUNDRAPORT\":\"1316\"}, inplace = True) \n",
    "print(new_df.head())"
   ]
  },
  {
   "cell_type": "code",
   "execution_count": 8,
   "id": "d28d1623",
   "metadata": {},
   "outputs": [
    {
     "name": "stdout",
     "output_type": "stream",
     "text": [
      "['EQ']\n"
     ]
    }
   ],
   "source": [
    "#Finding unique values in \"Region\" \n",
    "print(new_df[\"Series\"].unique())"
   ]
  },
  {
   "cell_type": "code",
   "execution_count": 9,
   "id": "0e1233ae",
   "metadata": {},
   "outputs": [
    {
     "name": "stdout",
     "output_type": "stream",
     "text": [
      "         Date Symbol Series  Prev Close    Open     High    Low   Last  \\\n",
      "0  2007-11-27   1316    517      440.00  770.00  1050.00  770.0  959.0   \n",
      "1  2007-11-28   1316    517      962.90  984.00   990.00  874.0  885.0   \n",
      "2  2007-11-29   1316    517      893.90  909.00   914.75  841.0  887.0   \n",
      "3  2007-11-30   1316    517      884.20  890.00   958.00  890.0  929.0   \n",
      "4  2007-12-03   1316    517      921.55  939.75   995.00  922.0  980.0   \n",
      "\n",
      "    Close    VWAP    Volume      Turnover  Trades  Deliverable Volume  \\\n",
      "0  962.90  984.72  27294366  2.687719e+15     NaN             9859619   \n",
      "1  893.90  941.38   4581338  4.312765e+14     NaN             1453278   \n",
      "2  884.20  888.09   5124121  4.550658e+14     NaN             1069678   \n",
      "3  921.55  929.17   4609762  4.283257e+14     NaN             1260913   \n",
      "4  969.30  965.65   2977470  2.875200e+14     NaN              816123   \n",
      "\n",
      "   %Deliverble  \n",
      "0       0.3612  \n",
      "1       0.3172  \n",
      "2       0.2088  \n",
      "3       0.2735  \n",
      "4       0.2741  \n"
     ]
    }
   ],
   "source": [
    "#Replacing string values with int\n",
    " \n",
    "new_df['Series'].replace({'EQ':'517'}, inplace = True)\n",
    "print(new_df.head())"
   ]
  },
  {
   "cell_type": "code",
   "execution_count": 10,
   "id": "c69d4108",
   "metadata": {},
   "outputs": [
    {
     "name": "stdout",
     "output_type": "stream",
     "text": [
      "(3322, 15)\n",
      "         Date Symbol Series  Prev Close    Open     High    Low   Last  \\\n",
      "0  2007-11-27   1316    517      440.00  770.00  1050.00  770.0  959.0   \n",
      "1  2007-11-28   1316    517      962.90  984.00   990.00  874.0  885.0   \n",
      "2  2007-11-29   1316    517      893.90  909.00   914.75  841.0  887.0   \n",
      "3  2007-11-30   1316    517      884.20  890.00   958.00  890.0  929.0   \n",
      "4  2007-12-03   1316    517      921.55  939.75   995.00  922.0  980.0   \n",
      "\n",
      "    Close    VWAP    Volume      Turnover  Trades  Deliverable Volume  \\\n",
      "0  962.90  984.72  27294366  2.687719e+15     NaN             9859619   \n",
      "1  893.90  941.38   4581338  4.312765e+14     NaN             1453278   \n",
      "2  884.20  888.09   5124121  4.550658e+14     NaN             1069678   \n",
      "3  921.55  929.17   4609762  4.283257e+14     NaN             1260913   \n",
      "4  969.30  965.65   2977470  2.875200e+14     NaN              816123   \n",
      "\n",
      "   %Deliverble  \n",
      "0       0.3612  \n",
      "1       0.3172  \n",
      "2       0.2088  \n",
      "3       0.2735  \n",
      "4       0.2741  \n"
     ]
    }
   ],
   "source": [
    "#Describing data after preprocessing \n",
    "print(new_df.shape) \n",
    "print(new_df.head())"
   ]
  },
  {
   "cell_type": "code",
   "execution_count": 12,
   "id": "ed9ea180",
   "metadata": {},
   "outputs": [
    {
     "data": {
      "image/png": "[encoded data removed]",
      "text/plain": [
       "<Figure size 600x600 with 1 Axes>"
      ]
     },
     "metadata": {},
     "output_type": "display_data"
    }
   ],
   "source": [
    "\n",
    "new_df.Open.value_counts()\n",
    "plt.figure(figsize=(6,6))\n",
    "sns.countplot(x='Open', data=new_df)\n",
    "plt.title('Opening of AdaniPorts')\n",
    "plt.show()"
   ]
  },
  {
   "cell_type": "code",
   "execution_count": 13,
   "id": "47028b14",
   "metadata": {},
   "outputs": [],
   "source": [
    "from sklearn.datasets import make_classification\n",
    "X, y = make_classification(n_classes=2, class_sep=0.5,\n",
    "weights=[0.05, 0.95], n_informative=2, n_redundant=0, flip_y=0,\n",
    "n_features=2, n_clusters_per_class=1, n_samples=1000, random_state=10)"
   ]
  },
  {
   "cell_type": "code",
   "execution_count": 14,
   "id": "fbf949d2",
   "metadata": {},
   "outputs": [],
   "source": [
    "from sklearn.model_selection import train_test_split\n",
    "  \n",
    "# split into 70:30 ration\n",
    "X_train, X_test, y_train, y_test = train_test_split(X, y, test_size = 0.3, random_state = 0)"
   ]
  },
  {
   "cell_type": "code",
   "execution_count": 15,
   "id": "448db6cd",
   "metadata": {},
   "outputs": [],
   "source": [
    "from imblearn.over_sampling import SMOTE\n",
    "sm = SMOTE(random_state=42)\n",
    "X_res, y_res = sm.fit_resample(X_train, y_train)"
   ]
  },
  {
   "cell_type": "code",
   "execution_count": 20,
   "id": "17c668be",
   "metadata": {},
   "outputs": [
    {
     "name": "stdout",
     "output_type": "stream",
     "text": [
      "Number transactions X_train dataset:  (700, 2)\n",
      "Number transactions y_train dataset:  (700,)\n",
      "Number transactions X_test dataset:  (300, 2)\n",
      "Number transactions y_test dataset:  (300,)\n"
     ]
    }
   ],
   "source": [
    "# describes info about train and test set\n",
    "print(\"Number transactions X_train dataset: \", X_train.shape)\n",
    "print(\"Number transactions y_train dataset: \", y_train.shape)\n",
    "print(\"Number transactions X_test dataset: \", X_test.shape)\n",
    "print(\"Number transactions y_test dataset: \", y_test.shape)"
   ]
  },
  {
   "cell_type": "code",
   "execution_count": null,
   "id": "e744562b",
   "metadata": {},
   "outputs": [],
   "source": []
  }
 ],
 "metadata": {
  "kernelspec": {
   "display_name": "Python 3",
   "language": "python",
   "name": "python3"
  },
  "language_info": {
   "codemirror_mode": {
    "name": "ipython",
    "version": 3
   },
   "file_extension": ".py",
   "mimetype": "text/x-python",
   "name": "python",
   "nbconvert_exporter": "python",
   "pygments_lexer": "ipython3",
   "version": "3.10.5"
  },
  "vscode": {
   "interpreter": {
    "hash": "ea928f5d67c4c93314bde902f9925b00b35f33a7a7fd46f2f8b2a0108e4de065"
   }
  }
 },
 "nbformat": 4,
 "nbformat_minor": 5
}
