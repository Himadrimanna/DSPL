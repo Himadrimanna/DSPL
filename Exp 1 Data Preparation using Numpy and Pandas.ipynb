{
 "cells": [
  {
   "cell_type": "code",
   "execution_count": 3,
   "id": "14591827",
   "metadata": {},
   "outputs": [],
   "source": [
    "# import the pandas library\n",
    "import pandas as pd\n",
    "import numpy as np"
   ]
  },
  {
   "cell_type": "code",
   "execution_count": 4,
   "id": "3a3a037e",
   "metadata": {},
   "outputs": [],
   "source": [
    "# read csv\n",
    "df = pd.read_csv(\"D:\\python programs\\dspl\\\\archive\\ADANIPORTS.csv\") "
   ]
  },
  {
   "cell_type": "code",
   "execution_count": 5,
   "id": "a21a497a",
   "metadata": {},
   "outputs": [
    {
     "name": "stdout",
     "output_type": "stream",
     "text": [
      "(3322, 15)\n"
     ]
    }
   ],
   "source": [
    "# To print no. of samples and attributes\n",
    "print(df.shape)"
   ]
  },
  {
   "cell_type": "code",
   "execution_count": 6,
   "id": "85a6e3d7",
   "metadata": {},
   "outputs": [
    {
     "name": "stdout",
     "output_type": "stream",
     "text": [
      "['Date', 'Symbol', 'Series', 'Prev Close', 'Open', 'High', 'Low', 'Last', 'Close', 'VWAP', 'Volume', 'Turnover', 'Trades', 'Deliverable Volume', '%Deliverble']\n"
     ]
    }
   ],
   "source": [
    "# getting the columns of the dataset\n",
    "columns = list(df.columns)\n",
    "print(columns)"
   ]
  },
  {
   "cell_type": "code",
   "execution_count": 7,
   "id": "9555bc50",
   "metadata": {},
   "outputs": [
    {
     "name": "stdout",
     "output_type": "stream",
     "text": [
      "         Date      Symbol Series  Prev Close    Open     High    Low   Last  \\\n",
      "0  2007-11-27  MUNDRAPORT     EQ      440.00  770.00  1050.00  770.0  959.0   \n",
      "1  2007-11-28  MUNDRAPORT     EQ      962.90  984.00   990.00  874.0  885.0   \n",
      "2  2007-11-29  MUNDRAPORT     EQ      893.90  909.00   914.75  841.0  887.0   \n",
      "3  2007-11-30  MUNDRAPORT     EQ      884.20  890.00   958.00  890.0  929.0   \n",
      "4  2007-12-03  MUNDRAPORT     EQ      921.55  939.75   995.00  922.0  980.0   \n",
      "\n",
      "    Close    VWAP    Volume      Turnover  Trades  Deliverable Volume  \\\n",
      "0  962.90  984.72  27294366  2.687719e+15     NaN             9859619   \n",
      "1  893.90  941.38   4581338  4.312765e+14     NaN             1453278   \n",
      "2  884.20  888.09   5124121  4.550658e+14     NaN             1069678   \n",
      "3  921.55  929.17   4609762  4.283257e+14     NaN             1260913   \n",
      "4  969.30  965.65   2977470  2.875200e+14     NaN              816123   \n",
      "\n",
      "   %Deliverble  \n",
      "0       0.3612  \n",
      "1       0.3172  \n",
      "2       0.2088  \n",
      "3       0.2735  \n",
      "4       0.2741  \n"
     ]
    }
   ],
   "source": [
    "# To print first five samples\n",
    "print(df.head()) "
   ]
  },
  {
   "cell_type": "code",
   "execution_count": 8,
   "id": "3c121e96",
   "metadata": {},
   "outputs": [
    {
     "name": "stdout",
     "output_type": "stream",
     "text": [
      "        Prev Close         Open         High          Low         Last  \\\n",
      "count  3322.000000  3322.000000  3322.000000  3322.000000  3322.000000   \n",
      "mean    344.114314   344.763019   351.608007   337.531969   344.239539   \n",
      "std     192.936882   193.619992   198.617808   188.676614   193.187813   \n",
      "min     108.000000   108.000000   110.450000   105.650000   108.000000   \n",
      "25%     164.312500   164.850000   168.000000   161.600000   164.075000   \n",
      "50%     324.700000   325.750000   331.275000   319.850000   325.000000   \n",
      "75%     400.912500   401.000000   407.187500   395.000000   400.912500   \n",
      "max    1307.450000  1310.250000  1324.000000  1270.000000  1308.000000   \n",
      "\n",
      "             Close         VWAP        Volume      Turnover        Trades  \\\n",
      "count  3322.000000  3322.000000  3.322000e+03  3.322000e+03  2.456000e+03   \n",
      "mean    344.201626   344.853182  2.954564e+06  1.070144e+14  4.492259e+04   \n",
      "std     193.045886   193.841305  4.104227e+06  2.625564e+14  5.023124e+04   \n",
      "min     108.000000   108.340000  1.236600e+04  2.415857e+11  3.660000e+02   \n",
      "25%     164.312500   164.855000  7.493682e+05  1.817650e+13  2.083200e+04   \n",
      "50%     324.700000   325.765000  2.007292e+06  5.836041e+13  3.588150e+04   \n",
      "75%     400.912500   400.607500  3.636883e+06  1.158526e+14  5.336875e+04   \n",
      "max    1307.450000  1302.150000  9.771788e+07  8.160988e+15  1.205984e+06   \n",
      "\n",
      "       Deliverable Volume  %Deliverble  \n",
      "count        3.322000e+03  3322.000000  \n",
      "mean         1.207441e+06     0.445899  \n",
      "std          1.398640e+06     0.160496  \n",
      "min          5.383000e+03     0.067000  \n",
      "25%          3.212005e+05     0.332900  \n",
      "50%          8.132775e+05     0.445650  \n",
      "75%          1.605528e+06     0.555850  \n",
      "max          2.241652e+07     0.979800  \n"
     ]
    }
   ],
   "source": [
    "#Describing dataset \n",
    "print(df.describe()) "
   ]
  },
  {
   "cell_type": "code",
   "execution_count": 9,
   "id": "9be19556",
   "metadata": {},
   "outputs": [
    {
     "name": "stdout",
     "output_type": "stream",
     "text": [
      "Date                    0\n",
      "Symbol                  0\n",
      "Series                  0\n",
      "Prev Close              0\n",
      "Open                    0\n",
      "High                    0\n",
      "Low                     0\n",
      "Last                    0\n",
      "Close                   0\n",
      "VWAP                    0\n",
      "Volume                  0\n",
      "Turnover                0\n",
      "Trades                866\n",
      "Deliverable Volume      0\n",
      "%Deliverble             0\n",
      "dtype: int64\n",
      "Missing values distribution: \n",
      "Date                  0.000000\n",
      "Symbol                0.000000\n",
      "Series                0.000000\n",
      "Prev Close            0.000000\n",
      "Open                  0.000000\n",
      "High                  0.000000\n",
      "Low                   0.000000\n",
      "Last                  0.000000\n",
      "Close                 0.000000\n",
      "VWAP                  0.000000\n",
      "Volume                0.000000\n",
      "Turnover              0.000000\n",
      "Trades                0.260686\n",
      "Deliverable Volume    0.000000\n",
      "%Deliverble           0.000000\n",
      "dtype: float64\n"
     ]
    }
   ],
   "source": [
    "#New dataframe \n",
    "new_df = df\n",
    "#new_df.isnull()\n",
    "#Checking for null values \n",
    "print(new_df.isnull().sum()) \n",
    "print(\"Missing values distribution: \")\n",
    "print(new_df.isnull().mean())\n",
    "#print(new_df.shape) \n",
    "#new_df.duplicated()"
   ]
  },
  {
   "cell_type": "code",
   "execution_count": 10,
   "id": "8ce336fc",
   "metadata": {},
   "outputs": [
    {
     "name": "stdout",
     "output_type": "stream",
     "text": [
      "False\n",
      "0       False\n",
      "1       False\n",
      "2       False\n",
      "3       False\n",
      "4       False\n",
      "        ...  \n",
      "3317    False\n",
      "3318    False\n",
      "3319    False\n",
      "3320    False\n",
      "3321    False\n",
      "Length: 3322, dtype: bool\n",
      "(3322, 15)\n"
     ]
    }
   ],
   "source": [
    "# #Checking for duplicates\n",
    "print(new_df.duplicated().any()) \n",
    "print(new_df.duplicated())\n",
    "print(new_df.shape) "
   ]
  },
  {
   "cell_type": "code",
   "execution_count": 11,
   "id": "4745c3ed",
   "metadata": {},
   "outputs": [
    {
     "name": "stdout",
     "output_type": "stream",
     "text": [
      "Column datatypes: \n",
      "Date                   object\n",
      "Symbol                 object\n",
      "Series                 object\n",
      "Prev Close            float64\n",
      "Open                  float64\n",
      "High                  float64\n",
      "Low                   float64\n",
      "Last                  float64\n",
      "Close                 float64\n",
      "VWAP                  float64\n",
      "Volume                  int64\n",
      "Turnover              float64\n",
      "Trades                float64\n",
      "Deliverable Volume      int64\n",
      "%Deliverble           float64\n",
      "dtype: object\n"
     ]
    }
   ],
   "source": [
    "print(\"Column datatypes: \")\n",
    "print(new_df.dtypes)"
   ]
  },
  {
   "cell_type": "code",
   "execution_count": 12,
   "id": "0ab6e392",
   "metadata": {},
   "outputs": [
    {
     "name": "stdout",
     "output_type": "stream",
     "text": [
      "         Date Symbol Series  Prev Close    Open     High    Low   Last  \\\n",
      "0  2007-11-27   1316     EQ      440.00  770.00  1050.00  770.0  959.0   \n",
      "1  2007-11-28   1316     EQ      962.90  984.00   990.00  874.0  885.0   \n",
      "2  2007-11-29   1316     EQ      893.90  909.00   914.75  841.0  887.0   \n",
      "3  2007-11-30   1316     EQ      884.20  890.00   958.00  890.0  929.0   \n",
      "4  2007-12-03   1316     EQ      921.55  939.75   995.00  922.0  980.0   \n",
      "\n",
      "    Close    VWAP    Volume      Turnover  Trades  Deliverable Volume  \\\n",
      "0  962.90  984.72  27294366  2.687719e+15     NaN             9859619   \n",
      "1  893.90  941.38   4581338  4.312765e+14     NaN             1453278   \n",
      "2  884.20  888.09   5124121  4.550658e+14     NaN             1069678   \n",
      "3  921.55  929.17   4609762  4.283257e+14     NaN             1260913   \n",
      "4  969.30  965.65   2977470  2.875200e+14     NaN              816123   \n",
      "\n",
      "   %Deliverble  \n",
      "0       0.3612  \n",
      "1       0.3172  \n",
      "2       0.2088  \n",
      "3       0.2735  \n",
      "4       0.2741  \n",
      "(3322, 15)\n"
     ]
    }
   ],
   "source": [
    "#Replacing string values with integer \n",
    "new_df[\"Symbol\"].replace({\"MUNDRAPORT\":\"1316\"}, inplace = True) \n",
    "print(new_df.head())\n",
    "print(new_df.shape) "
   ]
  },
  {
   "cell_type": "code",
   "execution_count": 13,
   "id": "be1b40b9",
   "metadata": {},
   "outputs": [
    {
     "name": "stdout",
     "output_type": "stream",
     "text": [
      "['EQ']\n"
     ]
    }
   ],
   "source": [
    "#Finding unique values in \"Series\" \n",
    "print(new_df[\"Series\"].unique()) "
   ]
  },
  {
   "cell_type": "code",
   "execution_count": 14,
   "id": "916a2dba",
   "metadata": {},
   "outputs": [
    {
     "name": "stdout",
     "output_type": "stream",
     "text": [
      "         Date Symbol Series  Prev Close    Open     High    Low   Last  \\\n",
      "0  2007-11-27   1316    517      440.00  770.00  1050.00  770.0  959.0   \n",
      "1  2007-11-28   1316    517      962.90  984.00   990.00  874.0  885.0   \n",
      "2  2007-11-29   1316    517      893.90  909.00   914.75  841.0  887.0   \n",
      "3  2007-11-30   1316    517      884.20  890.00   958.00  890.0  929.0   \n",
      "4  2007-12-03   1316    517      921.55  939.75   995.00  922.0  980.0   \n",
      "\n",
      "    Close    VWAP    Volume      Turnover  Trades  Deliverable Volume  \\\n",
      "0  962.90  984.72  27294366  2.687719e+15     NaN             9859619   \n",
      "1  893.90  941.38   4581338  4.312765e+14     NaN             1453278   \n",
      "2  884.20  888.09   5124121  4.550658e+14     NaN             1069678   \n",
      "3  921.55  929.17   4609762  4.283257e+14     NaN             1260913   \n",
      "4  969.30  965.65   2977470  2.875200e+14     NaN              816123   \n",
      "\n",
      "   %Deliverble  \n",
      "0       0.3612  \n",
      "1       0.3172  \n",
      "2       0.2088  \n",
      "3       0.2735  \n",
      "4       0.2741  \n"
     ]
    }
   ],
   "source": [
    "#Replacing string values with int\n",
    " \n",
    "new_df['Series'].replace({'EQ':'517'}, inplace = True)\n",
    "print(new_df.head())"
   ]
  },
  {
   "cell_type": "code",
   "execution_count": 30,
   "id": "8385cbed",
   "metadata": {},
   "outputs": [
    {
     "name": "stdout",
     "output_type": "stream",
     "text": [
      "(3322, 14)\n",
      "         Date Symbol Series  Prev Close    Open     High    Low   Last  \\\n",
      "0  2007-11-27   1316    517      440.00  770.00  1050.00  770.0  959.0   \n",
      "1  2007-11-28   1316    517      962.90  984.00   990.00  874.0  885.0   \n",
      "2  2007-11-29   1316    517      893.90  909.00   914.75  841.0  887.0   \n",
      "3  2007-11-30   1316    517      884.20  890.00   958.00  890.0  929.0   \n",
      "4  2007-12-03   1316    517      921.55  939.75   995.00  922.0  980.0   \n",
      "\n",
      "    Close    VWAP    Volume      Turnover  Deliverable Volume  %Deliverble  \n",
      "0  962.90  984.72  27294366  2.687719e+15             9859619       0.3612  \n",
      "1  893.90  941.38   4581338  4.312765e+14             1453278       0.3172  \n",
      "2  884.20  888.09   5124121  4.550658e+14             1069678       0.2088  \n",
      "3  921.55  929.17   4609762  4.283257e+14             1260913       0.2735  \n",
      "4  969.30  965.65   2977470  2.875200e+14              816123       0.2741  \n"
     ]
    }
   ],
   "source": [
    "#Describing data after preprocessing \n",
    "print(new_df.shape) \n",
    "print(new_df.head())"
   ]
  },
  {
   "cell_type": "code",
   "execution_count": null,
   "id": "6cf064d2",
   "metadata": {},
   "outputs": [],
   "source": []
  }
 ],
 "metadata": {
  "kernelspec": {
   "display_name": "Python 3",
   "language": "python",
   "name": "python3"
  },
  "language_info": {
   "codemirror_mode": {
    "name": "ipython",
    "version": 3
   },
   "file_extension": ".py",
   "mimetype": "text/x-python",
   "name": "python",
   "nbconvert_exporter": "python",
   "pygments_lexer": "ipython3",
   "version": "3.10.5"
  },
  "vscode": {
   "interpreter": {
    "hash": "ea928f5d67c4c93314bde902f9925b00b35f33a7a7fd46f2f8b2a0108e4de065"
   }
  }
 },
 "nbformat": 4,
 "nbformat_minor": 5
}
